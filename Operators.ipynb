{
  "metadata": {
    "interpreter": {
      "hash": "695a388a4c2e020e22268ccf38be8173707e8975f5964aead99e22ad28ea09a9"
    },
    "kernelspec": {
      "name": "python",
      "display_name": "Python (Pyodide)",
      "language": "python"
    },
    "language_info": {
      "codemirror_mode": {
        "name": "python",
        "version": 3
      },
      "file_extension": ".py",
      "mimetype": "text/x-python",
      "name": "python",
      "nbconvert_exporter": "python",
      "pygments_lexer": "ipython3",
      "version": "3.8"
    }
  },
  "nbformat_minor": 4,
  "nbformat": 4,
  "cells": [
    {
      "cell_type": "markdown",
      "source": "Operatores:",
      "metadata": {}
    },
    {
      "cell_type": "code",
      "source": "#Arithmetic\na=35\nb=8\nsum=a+b\nsub=a-b\nmul=a*b\ndiv=a/b\nmod=a%b\nc=5\nd=3\nexpo=c**d\nfloorDiv=c//d\nprint(\"addition =\",sum)\nprint(\"subraction =\",sub)\nprint(\"multiplication =\",mul)\nprint(\"divition =\",div)\nprint(\"modulus =\",mod)\nprint(\"Exponentiation =\",expo)\nprint(\"floor division =\",floorDiv)\n",
      "metadata": {},
      "execution_count": 114,
      "outputs": [
        {
          "name": "stdout",
          "output_type": "stream",
          "text": "addition = 43\n\nsubraction = 27\n\nmultiplication = 280\n\ndivition = 4.375\n\nmodulus = 3\n\nExponentiation = 125\n\nfloor division = 1\n"
        }
      ]
    },
    {
      "cell_type": "code",
      "source": "#Assignment Operators\na=10\na += 3\nprint(\"increament =\",a)\nb=15\nb-=5\nprint(\"decreament =\",b)\nc=3\nc *=4\nprint(\"(c*=4) =\",c)\nd=8\nd /=2\nprint(\"(d /=) =\",d)\ne=5\ne %=2\nprint(\"(e %= 2) =\",e)\nf=10\nf **=2\nprint(\"(f**2) =\",f)\ng=10\ng //=2\nprint(\"(g //=2) =\",g)\nh=10\nh &=3\nprint(\"(h &= 3) =\",h)\ni=10\ni |=5\nprint(\"(i |= 5) =\",i)\nj=15\nj ^=7\nprint(\"(j^=7) =\",j)\nk=20\nk>>=2\nprint(\"(k>>=2) =\",k)\nl=20\nl<<=2\nprint(\"(l<<=2) =\",l)\n\n\n\n\n",
      "metadata": {},
      "execution_count": 115,
      "outputs": [
        {
          "name": "stdout",
          "output_type": "stream",
          "text": "increament = 13\n\ndecreament = 10\n\n(c*=4) = 12\n\n(d /=) = 4.0\n\n(e %= 2) = 1\n\n(f**2) = 100\n\n(g //=2) = 5\n\n(h &= 3) = 2\n\n(i |= 5) = 15\n\n(j^=7) = 8\n\n(k>>=2) = 5\n\n(l<<=2) = 80\n"
        }
      ]
    },
    {
      "cell_type": "code",
      "source": "#Comparison Operator\na=5\nb=6\nprint(a==b)\nprint(a!=b)\nprint(a<b)\nprint(a>b)\nprint(a<=b)\nprint(a>=b)\n",
      "metadata": {},
      "execution_count": 116,
      "outputs": [
        {
          "name": "stdout",
          "output_type": "stream",
          "text": "False\n\nTrue\n\nTrue\n\nFalse\n\nTrue\n\nFalse\n"
        }
      ]
    },
    {
      "cell_type": "code",
      "source": "#logical Operator\na=10\nb=5\nprint(a<10 and b>10)\nprint(a<=10 or b>10)\nprint(not(a<10 and b>10))\nprint(not(a<=10 or b>10))",
      "metadata": {},
      "execution_count": 117,
      "outputs": [
        {
          "name": "stdout",
          "output_type": "stream",
          "text": "False\n\nTrue\n\nTrue\n\nFalse\n"
        }
      ]
    },
    {
      "cell_type": "code",
      "source": "#identity Operator\n",
      "metadata": {},
      "execution_count": 118,
      "outputs": []
    },
    {
      "cell_type": "code",
      "source": "#Range\nfor b in range(10):\n    print(b)\n    ",
      "metadata": {},
      "execution_count": 122,
      "outputs": [
        {
          "name": "stdout",
          "output_type": "stream",
          "text": "0\n\n1\n\n2\n\n3\n\n4\n\n5\n\n6\n\n7\n\n8\n\n9\n"
        }
      ]
    },
    {
      "cell_type": "code",
      "source": "\nfor a in range(110,10,-15):\n    print(a)\n",
      "metadata": {
        "trusted": true
      },
      "execution_count": 2,
      "outputs": [
        {
          "name": "stdout",
          "text": "110\n95\n80\n65\n50\n35\n20\n",
          "output_type": "stream"
        }
      ]
    },
    {
      "cell_type": "code",
      "source": "for a in range(10,15):\n    print(a)",
      "metadata": {},
      "execution_count": 120,
      "outputs": [
        {
          "name": "stdout",
          "output_type": "stream",
          "text": "10\n\n11\n\n12\n\n13\n\n14\n"
        }
      ]
    },
    {
      "cell_type": "code",
      "source": "#Identity Operator\na=50\nb=70\nc=a\nprint(a is b)\nprint(a is c is not b)",
      "metadata": {},
      "execution_count": 4,
      "outputs": [
        {
          "name": "stdout",
          "output_type": "stream",
          "text": "False\n\nTrue\n"
        }
      ]
    },
    {
      "cell_type": "code",
      "source": "#Membership Operator\na=[1,2,3]\nprint(2 in a)\nprint(10 not in a and 3 in a)",
      "metadata": {},
      "execution_count": 8,
      "outputs": [
        {
          "name": "stdout",
          "output_type": "stream",
          "text": "True\n\nTrue\n"
        }
      ]
    },
    {
      "cell_type": "markdown",
      "source": "",
      "metadata": {}
    }
  ]
}