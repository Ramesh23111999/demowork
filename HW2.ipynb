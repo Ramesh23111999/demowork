{
 "cells": [
  {
   "cell_type": "code",
   "execution_count": 8,
   "metadata": {},
   "outputs": [
    {
     "name": "stdout",
     "output_type": "stream",
     "text": [
      "A=  5 \n",
      "B=  3 \n",
      "C=  2 \n",
      "x=  2\n"
     ]
    }
   ],
   "source": [
    "a=int(input())\n",
    "b=int(input())\n",
    "c=int(input())\n",
    "x=int(input())\n",
    "print(\"A= \",a,\"\\nB= \",b,\"\\nC= \",c,\"\\nx= \",x)"
   ]
  },
  {
   "cell_type": "code",
   "execution_count": 9,
   "metadata": {},
   "outputs": [
    {
     "name": "stdout",
     "output_type": "stream",
     "text": [
      "1.Ans= 11\n"
     ]
    }
   ],
   "source": [
    "#1. a+b*c\n",
    "ans1=a+b*c\n",
    "print(\"1.Ans=\",ans1)"
   ]
  },
  {
   "cell_type": "code",
   "execution_count": 11,
   "metadata": {},
   "outputs": [
    {
     "name": "stdout",
     "output_type": "stream",
     "text": [
      "2.Ans = 28\n"
     ]
    }
   ],
   "source": [
    "#2. ax^2 + bx + c\n",
    "ans2=(a*(x**2))+(b*x)+c\n",
    "print(\"2.Ans =\",ans2)"
   ]
  },
  {
   "cell_type": "code",
   "execution_count": 12,
   "metadata": {},
   "outputs": [
    {
     "name": "stdout",
     "output_type": "stream",
     "text": [
      "3.Ans = 4.0\n"
     ]
    }
   ],
   "source": [
    "#3. 4ac/2a\n",
    "ans3=(4*a*c)/(2*a)\n",
    "print(\"3.Ans =\",ans3)\n"
   ]
  },
  {
   "cell_type": "code",
   "execution_count": 14,
   "metadata": {},
   "outputs": [
    {
     "name": "stdout",
     "output_type": "stream",
     "text": [
      "4.Ans=  0.6666666666666665\n"
     ]
    }
   ],
   "source": [
    "#4. (2x^2/b)-c\n",
    "ans4=((2*(x**2))/b)-c\n",
    "print(\"4.Ans= \",ans4)\n"
   ]
  }
 ],
 "metadata": {
  "interpreter": {
   "hash": "695a388a4c2e020e22268ccf38be8173707e8975f5964aead99e22ad28ea09a9"
  },
  "kernelspec": {
   "display_name": "Python 3.10.3 64-bit",
   "language": "python",
   "name": "python3"
  },
  "language_info": {
   "codemirror_mode": {
    "name": "ipython",
    "version": 3
   },
   "file_extension": ".py",
   "mimetype": "text/x-python",
   "name": "python",
   "nbconvert_exporter": "python",
   "pygments_lexer": "ipython3",
   "version": "3.10.3"
  },
  "orig_nbformat": 4
 },
 "nbformat": 4,
 "nbformat_minor": 2
}
